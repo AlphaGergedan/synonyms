{
 "cells": [
  {
   "cell_type": "code",
   "execution_count": 1,
   "id": "f5739c53-6bfa-4d6d-b916-20d9df0ed56e",
   "metadata": {},
   "outputs": [],
   "source": [
    "import os\n",
    "import sys\n",
    "\n",
    "# local modules in src\n",
    "directory_to_prepend = os.path.abspath(\"src\")\n",
    "if directory_to_prepend not in sys.path:\n",
    "    sys.path = [directory_to_prepend] + sys.path\n",
    "\n",
    "from preprocess import preprocess, get_combined_sentence_embedding, get_weighted_embedding, split_with_without_text\n",
    "\n",
    "import fasttext as ft \n",
    "from sklearn.cluster import KMeans\n",
    "import pandas as pd\n",
    "import numpy as np\n",
    "\n",
    "import matplotlib.pyplot as plt\n",
    "from sklearn.decomposition import PCA\n",
    "pca_2d = PCA(n_components=2)\n",
    "from plot import plot_2d\n",
    "\n",
    "path_to_data = './data/english_words.csv'\n",
    "path_to_fasttext_model = './models/cc.en.300.bin'\n",
    "\n",
    "assert os.path.exists(path_to_data)\n",
    "assert os.path.exists(path_to_fasttext_model)\n",
    "\n",
    "#random_seed = 12345"
   ]
  },
  {
   "cell_type": "markdown",
   "id": "698ed37f-67fc-49e7-997b-455bf93c33ff",
   "metadata": {},
   "source": [
    "# Create Embeddings using fasttext"
   ]
  },
  {
   "cell_type": "code",
   "execution_count": 2,
   "id": "63d24999-904c-4ec4-8d46-7c08e182778e",
   "metadata": {},
   "outputs": [
    {
     "name": "stdout",
     "output_type": "stream",
     "text": [
      "-> dataset is read with shape: (13161, 2)\n",
      "-> #words with text: 13145\n",
      "-> #words without text: 16\n"
     ]
    }
   ],
   "source": [
    "# read dataset, fill na values with empty string, and replace newline characters with empty string\n",
    "df = pd.read_csv(path_to_data, usecols=['Word', 'Meaning']) \n",
    "df = preprocess(df, remove_duplicates=False)\n",
    "\n",
    "print(f'-> dataset is read with shape: {df.shape}')\n",
    "# split dataset into rows with text and without text\n",
    "# TODO double check\n",
    "num_words_with_text = 0\n",
    "num_words_without_text = 0\n",
    "for index, row in df.iterrows():\n",
    "    if type(row['Meaning']) == str and len(row['Meaning']) > 0:\n",
    "        num_words_with_text = num_words_with_text + 1\n",
    "    else:\n",
    "        num_words_without_text = num_words_without_text + 1\n",
    "\n",
    "df_with_text, df_without_text = split_with_without_text(df)\n",
    "\n",
    "assert num_words_with_text == df_with_text.shape[0]\n",
    "assert num_words_without_text == df_without_text.shape[0]\n",
    "\n",
    "print(f'-> #words with text: {df_with_text.shape[0]}')\n",
    "print(f'-> #words without text: {df_without_text.shape[0]}')\n",
    "\n",
    "# drop the values without text \n",
    "del df, df_without_text"
   ]
  },
  {
   "cell_type": "code",
   "execution_count": 3,
   "id": "b7442902-d4de-4134-a3e3-6e8b0704e05d",
   "metadata": {},
   "outputs": [
    {
     "name": "stdout",
     "output_type": "stream",
     "text": [
      "-> Creating embeddings...\n",
      "-> Embedding using method 'combined_sentence' is created.\n"
     ]
    },
    {
     "name": "stderr",
     "output_type": "stream",
     "text": [
      "Warning : `load_model` does not return WordVectorModel or SupervisedModel any more, but a `FastText` object which is very similar.\n"
     ]
    },
    {
     "name": "stdout",
     "output_type": "stream",
     "text": [
      "-> Embedding using method 'text_vec' is created.\n",
      "-> Embedding using method 'weighted01' is created.\n",
      "-> Embedding using method 'weighted02' is created.\n",
      "-> Embedding using method 'weighted03' is created.\n",
      "-> Embedding using method 'weighted04' is created.\n",
      "-> Embedding using method 'weighted05' is created.\n",
      "-> Embedding using method 'weighted06' is created.\n",
      "-> Embedding using method 'weighted07' is created.\n",
      "-> Embedding using method 'weighted08' is created.\n",
      "-> Embedding using method 'weighted09' is created.\n",
      "-> Embedding using method 'word_vec' is created.\n",
      "-> Embeddings are created, processed dataset has the following columns:\n",
      "Index(['Word', 'Meaning', 'combined_sentence', 'text_vec', 'weighted01',\n",
      "       'weighted02', 'weighted03', 'weighted04', 'weighted05', 'weighted06',\n",
      "       'weighted07', 'weighted08', 'weighted09', 'word_vec'],\n",
      "      dtype='object')\n",
      "-> Processed dataset vectors (with text and without text) 2D plot added under plots.\n"
     ]
    },
    {
     "data": {
      "text/plain": [
       "<Figure size 640x480 with 0 Axes>"
      ]
     },
     "metadata": {},
     "output_type": "display_data"
    }
   ],
   "source": [
    "ft_model = ft.load_model(path_to_fasttext_model)\n",
    "\n",
    "# combining word and text we can get different representations of the input  \n",
    "embeddings = {\n",
    "    # appends word to the text and uses sentence embedding\n",
    "    'combined_sentence': (lambda row: get_combined_sentence_embedding(ft_model, row)),\n",
    "    # uses word embedding for word and sentence embedding for the text (weighted)\n",
    "    'text_vec': (lambda row: get_weighted_embedding(ft_model, row, word_weight=0)),\n",
    "    'weighted01': (lambda row: get_weighted_embedding(ft_model, row, word_weight=0.1)),\n",
    "    'weighted02': (lambda row: get_weighted_embedding(ft_model, row, word_weight=0.2)),\n",
    "    'weighted03': (lambda row: get_weighted_embedding(ft_model, row, word_weight=0.3)),\n",
    "    'weighted04': (lambda row: get_weighted_embedding(ft_model, row, word_weight=0.4)),\n",
    "    'weighted05': (lambda row: get_weighted_embedding(ft_model, row, word_weight=0.5)),\n",
    "    'weighted06': (lambda row: get_weighted_embedding(ft_model, row, word_weight=0.6)),\n",
    "    'weighted07': (lambda row: get_weighted_embedding(ft_model, row, word_weight=0.7)),\n",
    "    'weighted08': (lambda row: get_weighted_embedding(ft_model, row, word_weight=0.8)),\n",
    "    'weighted09': (lambda row: get_weighted_embedding(ft_model, row, word_weight=0.9)),\n",
    "    'word_vec': (lambda row: get_weighted_embedding(ft_model, row, word_weight=1)),\n",
    "}\n",
    "\n",
    "# create embeddings for the words with text\n",
    "print(f\"-> Creating embeddings...\")\n",
    "for key in embeddings:\n",
    "    df_with_text[key] = df_with_text.apply(lambda row: embeddings[key](row.loc), axis=1)\n",
    "    print(f\"-> Embedding using method '{key}' is created.\")\n",
    "\n",
    "# save the vectors \n",
    "print(f\"-> Embeddings are created, processed dataset has the following columns:\\n{df_with_text.columns}\")\n",
    "df_with_text.to_csv('./data/english_words_with_embeddings.csv')\n",
    "\n",
    "# plot the results\n",
    "for key in embeddings:\n",
    "    # save the 2d plot to visualize\n",
    "    # rows with text should be clustered in the end\n",
    "    embeddings_2d = pca_2d.fit_transform(df_with_text[key].values.tolist())\n",
    "    plot_2d(embeddings_2d[:,0], embeddings_2d[:,1], save='fasttext_preprocessed_words_data_with_text_' + key + '_vectors_2d.pdf')\n",
    "\n",
    "print(f'-> Processed dataset vectors (with text and without text) 2D plot added under plots.')"
   ]
  }
 ],
 "metadata": {
  "kernelspec": {
   "display_name": "Python 3 (ipykernel)",
   "language": "python",
   "name": "python3"
  },
  "language_info": {
   "codemirror_mode": {
    "name": "ipython",
    "version": 3
   },
   "file_extension": ".py",
   "mimetype": "text/x-python",
   "name": "python",
   "nbconvert_exporter": "python",
   "pygments_lexer": "ipython3",
   "version": "3.12.1"
  }
 },
 "nbformat": 4,
 "nbformat_minor": 5
}
