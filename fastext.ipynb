{
 "cells": [
  {
   "cell_type": "code",
   "execution_count": 10,
   "id": "f5739c53-6bfa-4d6d-b916-20d9df0ed56e",
   "metadata": {},
   "outputs": [],
   "source": [
    "import fasttext\n",
    "from sklearn.cluster import KMeans\n",
    "import pandas as pd"
   ]
  },
  {
   "cell_type": "code",
   "execution_count": 17,
   "id": "63d24999-904c-4ec4-8d46-7c08e182778e",
   "metadata": {},
   "outputs": [
    {
     "name": "stdout",
     "output_type": "stream",
     "text": [
      "mkdir: cannot create directory ‘data’: File exists\n",
      "WARNING: combining -O with -r or -p will mean that all downloaded content\n",
      "will be placed in the single file you specified.\n",
      "\n",
      "File ‘data/english_words.csv’ already there; not retrieving.\n"
     ]
    }
   ],
   "source": [
    "# prepare dataset BELOW IS FROM FASTTEXT\n",
    "#!mkdir data\n",
    "#!wget -r -nc http://mattmahoney.net/dc/enwik9.zip -P data\n",
    "#!unzip data/enwik9.zip -d data\n",
    "#!rm data/enwik9.zip\n",
    "#!perl wikifil.pl data/enwik9 > data/fil9\n",
    "#!head -c 80 data/fil9\n",
    "\n",
    "\n",
    "# we try with english words\n",
    "# import dataset of english words and their descriptions\n",
    "!mkdir data\n",
    "!wget -nc -O data/english_words.csv --no-check-certificate -r 'https://drive.google.com/uc?export=download&id=1EVFrkEuXOKarjxaqLOY2nXsrG_cZCsyE'\n",
    "df = pd.read_csv('data/english_words.csv')"
   ]
  },
  {
   "cell_type": "code",
   "execution_count": 21,
   "id": "b7442902-d4de-4134-a3e3-6e8b0704e05d",
   "metadata": {},
   "outputs": [
    {
     "data": {
      "text/plain": [
       "<bound method NDFrame.head of                  Word                                            Meaning  \\\n",
       "0      A bed of roses  a phrase used to reference a situation that is...   \n",
       "1            A Priori  something that is believed to be true without ...   \n",
       "2            Aardvark  a large, long-eared nocturnal animal that uses...   \n",
       "3              Aback                               in amazement; shocked   \n",
       "4               Abaft                           toward the stern; behind   \n",
       "...               ...                                                ...   \n",
       "13156          Zodiac  a divided band in sky along which the sun, the...   \n",
       "13157            Zone                                an area or division   \n",
       "13158         Zoology  that portion of science that deals with the an...   \n",
       "13159            Zoom                               to move very quickly   \n",
       "13160          Zygote  the fertilized egg that results from the union...   \n",
       "\n",
       "                                              Examples/0  \\\n",
       "0      The poor orphan’s life hasn’t been a bed of ro...   \n",
       "1      Religious people have the a priori belief that...   \n",
       "2      The long-eared aardvark slept all day and ate ...   \n",
       "3      I was taken aback by the server’s rude comment...   \n",
       "4      The wind was abaft which made the ship glide f...   \n",
       "...                                                  ...   \n",
       "13156  Twelve cities in the state were named after as...   \n",
       "13157  The zone only has houses and no stores or shop...   \n",
       "13158  Since Chamberlain had a fierce love for animal...   \n",
       "13159  The cars began to zoom around the racetrack, m...   \n",
       "13160  A zygote is formed when a sperm cell and an eg...   \n",
       "\n",
       "                                              Examples/1  \\\n",
       "0      Because Mark studied for many weeks, taking th...   \n",
       "1      The jaded woman made a priori assumptions that...   \n",
       "2      With its rabbit like ears and piglike snout, t...   \n",
       "3      While Amy enjoyed the film as a whole, as a mi...   \n",
       "4      They placed the lifeboats in the rear part of ...   \n",
       "...                                                  ...   \n",
       "13156  The zodiac signs are split over the twelve mon...   \n",
       "13157  Walmart workers will place cleaning supplies i...   \n",
       "13158  April used her zoology degree to help ranchers...   \n",
       "13159  Police will need to monitor the fast-moving ca...   \n",
       "13160  After the zygote goes through a rapid period o...   \n",
       "\n",
       "                                              Examples/2  \\\n",
       "0      The stressed business owner quickly realized t...   \n",
       "1      Christopher Columbus had the a priori belief t...   \n",
       "2      Living a solitary nightlife, the African aardv...   \n",
       "3      Ken believed he had a great marriage so he was...   \n",
       "4      My first sailing lesson was learning that abaf...   \n",
       "...                                                  ...   \n",
       "13156  Zodiac symbols are based on the constellations...   \n",
       "13157  Before the team warmed up, all of the player’s...   \n",
       "13158  Through the school’s zoology program, students...   \n",
       "13159  Reading eagerly, the avid reader can zoom thro...   \n",
       "13160  The production of a zygote is dependent upon a...   \n",
       "\n",
       "                                              Examples/3  \\\n",
       "0                                                    NaN   \n",
       "1      People make a priori assumptions that the sun ...   \n",
       "2      The aardvark is a snouty mammal that dines hea...   \n",
       "3      At seventy years of age, Wanda was taken aback...   \n",
       "4      The sea spray was coming from abaft, making my...   \n",
       "...                                                  ...   \n",
       "13156  Each of the zodiac signs covers an equal area ...   \n",
       "13157  Because they live in a quake zone, the couple ...   \n",
       "13158  Kids learn about all types of animals when stu...   \n",
       "13159  Hurried shoppers looking for Christmas present...   \n",
       "13160  Simply stated, a zygote is an egg that has bee...   \n",
       "\n",
       "                                              Examples/4 Examples/5  \\\n",
       "0                                                    NaN        NaN   \n",
       "1      Lawyers use a priori arguments about their def...        NaN   \n",
       "2      Though it is a small mammal, the closest relat...        NaN   \n",
       "3      Although I had been exercising daily and eatin...        NaN   \n",
       "4      I was told to sit abaft to lessen my seasickne...        NaN   \n",
       "...                                                  ...        ...   \n",
       "13156  The zodiac system was based off of the sun, mo...        NaN   \n",
       "13157  People must drive slower in the construction z...        NaN   \n",
       "13158  In order to earn her degree in zoology, Rhonda...        NaN   \n",
       "13159  The track star was able to zoom past all of th...        NaN   \n",
       "13160  When a female gamete and a male gamete fuse, t...        NaN   \n",
       "\n",
       "      Examples/6 Examples/7 Examples/8 Examples/9  \n",
       "0            NaN        NaN        NaN        NaN  \n",
       "1            NaN        NaN        NaN        NaN  \n",
       "2            NaN        NaN        NaN        NaN  \n",
       "3            NaN        NaN        NaN        NaN  \n",
       "4            NaN        NaN        NaN        NaN  \n",
       "...          ...        ...        ...        ...  \n",
       "13156        NaN        NaN        NaN        NaN  \n",
       "13157        NaN        NaN        NaN        NaN  \n",
       "13158        NaN        NaN        NaN        NaN  \n",
       "13159        NaN        NaN        NaN        NaN  \n",
       "13160        NaN        NaN        NaN        NaN  \n",
       "\n",
       "[13161 rows x 12 columns]>"
      ]
     },
     "execution_count": 21,
     "metadata": {},
     "output_type": "execute_result"
    }
   ],
   "source": []
  },
  {
   "cell_type": "code",
   "execution_count": null,
   "id": "364fea79-d198-4b94-9c05-83bf3f2e3093",
   "metadata": {},
   "outputs": [],
   "source": []
  },
  {
   "cell_type": "code",
   "execution_count": null,
   "id": "e2b5b1cc-c505-42ed-8d61-525855c94635",
   "metadata": {},
   "outputs": [],
   "source": []
  },
  {
   "cell_type": "code",
   "execution_count": null,
   "id": "7140d8a0-0087-4531-bb26-659b64889001",
   "metadata": {},
   "outputs": [],
   "source": []
  }
 ],
 "metadata": {
  "kernelspec": {
   "display_name": "Python 3 (ipykernel)",
   "language": "python",
   "name": "python3"
  },
  "language_info": {
   "codemirror_mode": {
    "name": "ipython",
    "version": 3
   },
   "file_extension": ".py",
   "mimetype": "text/x-python",
   "name": "python",
   "nbconvert_exporter": "python",
   "pygments_lexer": "ipython3",
   "version": "3.12.1"
  }
 },
 "nbformat": 4,
 "nbformat_minor": 5
}
